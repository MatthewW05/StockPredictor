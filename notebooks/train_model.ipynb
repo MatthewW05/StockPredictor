{
 "cells": [
  {
   "cell_type": "code",
   "execution_count": 3,
   "metadata": {},
   "outputs": [],
   "source": [
    "import os\n",
    "import re\n",
    "import pandas as pd\n",
    "import numpy as np\n",
    "from sklearn.model_selection import train_test_split\n",
    "import tensorflow as tf\n",
    "from tensorflow.keras.optimizers import Adam\n",
    "from tensorflow.keras import regularizers\n",
    "import matplotlib.pyplot as plt"
   ]
  },
  {
   "cell_type": "code",
   "execution_count": 29,
   "metadata": {},
   "outputs": [],
   "source": [
    "home_dir = os.path.abspath('..')\n",
    "iteration = '4'"
   ]
  },
  {
   "cell_type": "code",
   "execution_count": 81,
   "metadata": {},
   "outputs": [],
   "source": [
    "def prepare_data(stocks_dir, sentiments_dir, window_size=60):\n",
    "    stock_files = os.listdir(stocks_dir)\n",
    "    sentiment_files = os.listdir(sentiments_dir)\n",
    "\n",
    "    X = []\n",
    "    y = []\n",
    "\n",
    "    for f in stock_files:\n",
    "        if f in sentiment_files:\n",
    "            stock_df = pd.read_csv(f\"{stocks_dir}\\\\{f}\")\n",
    "            sentiment_df = pd.read_csv(f\"{sentiments_dir}\\\\{f}\")\n",
    "\n",
    "            combined_df = pd.merge(stock_df, sentiment_df, left_on='fdate', right_on='formatted_date', how='outer')\n",
    "\n",
    "            combined_df['fdate'] = pd.to_datetime(combined_df['fdate'].combine_first(combined_df['formatted_date']))\n",
    "            combined_df = combined_df.drop(columns=['formatted_date', 'Date', 'Dividends', 'Stock Splits', 'Volume']).dropna()\n",
    "\n",
    "            combined_df = combined_df.sort_values(by='fdate')\n",
    "            for i in range(0, (len(combined_df) - window_size - 7), 3):\n",
    "                # Prepare 60-day stock data\n",
    "                open_data = combined_df['Open'].values[i:i+60]\n",
    "                high_data = combined_df['High'].values[i:i+60]\n",
    "                low_data = combined_df['Low'].values[i:i+60]\n",
    "                close_data = combined_df['Close'].values[i:i+60]\n",
    "\n",
    "                nopen_data = open_data / np.max(open_data)\n",
    "                nhigh_data = high_data / np.max(high_data)\n",
    "                nlow_data = low_data / np.max(low_data)\n",
    "                nclose_data = close_data / np.max(close_data)\n",
    "\n",
    "                # num_articles_data = combined_df['articles'].values[i:i+60]\n",
    "                # sentiment_data = combined_df['sentiment'].values[i:i+60]/combined_df['articles'].values[i:i+60]\n",
    "\n",
    "                # Prepare 7-day article and sentiment data, padded with 53 zeros on the left\n",
    "                num_articles_data = np.pad(combined_df['articles'].values[i+53:i+60], (53, 0), 'constant')\n",
    "                sentiment_data = np.pad(combined_df['sentiment'].values[i+53:i+60]/combined_df['articles'].values[i+53:i+60], (53, 0), 'constant')\n",
    "\n",
    "                # Output: 7-day future high and low values\n",
    "                noutput_high = combined_df['High'].values[i+60:i+67] / (np.max(high_data))\n",
    "                noutput_low = combined_df['Low'].values[i+60:i+67] / (np.max(low_data))\n",
    "\n",
    "                output_high = combined_df['High'].values[i+60:i+67]\n",
    "                output_low = combined_df['Low'].values[i+60:i+67]\n",
    "\n",
    "                # Stack inputs into the desired shape (60, 5) for stock data and (60, 2) for articles & sentiment\n",
    "                input_data = [\n",
    "                    open_data, high_data, low_data, close_data, nopen_data, nhigh_data, nlow_data, nclose_data, num_articles_data, sentiment_data\n",
    "                ]\n",
    "\n",
    "                if np.greater(open_data, [0]).all() and np.greater(high_data, [0]).all() and np.greater(low_data, [0]).all() and np.greater(close_data, [0]).all() and np.greater(output_high, [0]).all() and np.greater(output_low, [0]).all():\n",
    "                    X.append(np.array(input_data))\n",
    "                    y.append(np.array([output_high, output_low, noutput_high, noutput_low]))\n",
    "    \n",
    "    return np.array(X), np.array(y)"
   ]
  },
  {
   "cell_type": "code",
   "execution_count": 77,
   "metadata": {},
   "outputs": [
    {
     "name": "stdout",
     "output_type": "stream",
     "text": [
      "(62631, 10, 60) (62631, 4, 7)\n",
      "<class 'numpy.ndarray'>\n"
     ]
    }
   ],
   "source": [
    "stocks_dir = f\"{home_dir}\\\\data\\\\cleaned_data\\\\stock_data\"\n",
    "sentiments_dir = f\"{home_dir}\\\\data\\\\cleaned_data\\\\sentiment_data\"\n",
    "\n",
    "X, y = prepare_data(stocks_dir, sentiments_dir)\n",
    "\n",
    "print(X.shape, y.shape)\n",
    "print(type(X))"
   ]
  },
  {
   "cell_type": "code",
   "execution_count": 19,
   "metadata": {},
   "outputs": [
    {
     "name": "stdout",
     "output_type": "stream",
     "text": [
      "(62631, 6, 60) (62631, 2, 7)\n"
     ]
    }
   ],
   "source": [
    "print(X[:,4:,:].shape, y[:,2:,:].shape)"
   ]
  },
  {
   "cell_type": "code",
   "execution_count": 78,
   "metadata": {},
   "outputs": [
    {
     "name": "stdout",
     "output_type": "stream",
     "text": [
      "Training set size: 50104\n",
      "Validation set size: 6263\n",
      "Test set size: 6264\n"
     ]
    }
   ],
   "source": [
    "X_train, X_temp, y_train, y_temp = train_test_split(X, y, test_size=0.2, random_state=42)\n",
    "X_val, X_test, y_val, y_test = train_test_split(X_temp, y_temp, test_size=0.5, random_state=42)\n",
    "\n",
    "print(f\"Training set size: {len(X_train)}\")\n",
    "print(f\"Validation set size: {len(X_val)}\")\n",
    "print(f\"Test set size: {len(X_test)}\")"
   ]
  },
  {
   "cell_type": "code",
   "execution_count": 79,
   "metadata": {},
   "outputs": [
    {
     "name": "stdout",
     "output_type": "stream",
     "text": [
      "(50104, 10, 60) (50104, 28)\n"
     ]
    }
   ],
   "source": [
    "y_train = y_train.reshape(-1, 28)  # Reshape to (num_samples, 14)\n",
    "\n",
    "y_val = y_val.reshape(-1, 28)\n",
    "\n",
    "y_test = y_test.reshape(-1, 28)\n",
    "\n",
    "print(X_train.shape, y_train.shape)"
   ]
  },
  {
   "cell_type": "code",
   "execution_count": 80,
   "metadata": {},
   "outputs": [],
   "source": [
    "os.makedirs(f'{home_dir}\\\\data\\\\processed_data\\\\training_{iteration}', exist_ok=True)\n",
    "\n",
    "np.save(f'{home_dir}\\\\data\\\\processed_data\\\\training_{iteration}\\\\X_train.npy', X_train)\n",
    "np.save(f'{home_dir}\\\\data\\\\processed_data\\\\training_{iteration}\\\\y_train.npy', y_train)\n",
    "\n",
    "np.save(f'{home_dir}\\\\data\\\\processed_data\\\\training_{iteration}\\\\X_val.npy', X_val)\n",
    "np.save(f'{home_dir}\\\\data\\\\processed_data\\\\training_{iteration}\\\\y_val.npy', y_val)\n",
    "\n",
    "np.save(f'{home_dir}\\\\data\\\\processed_data\\\\training_{iteration}\\\\X_test.npy', X_test)\n",
    "np.save(f'{home_dir}\\\\data\\\\processed_data\\\\training_{iteration}\\\\y_test.npy', y_test)"
   ]
  },
  {
   "cell_type": "code",
   "execution_count": 30,
   "metadata": {},
   "outputs": [],
   "source": [
    "X_train = np.load(f'{home_dir}\\\\data\\\\processed_data\\\\training_{iteration}\\\\X_train.npy')\n",
    "y_train = np.load(f'{home_dir}\\\\data\\\\processed_data\\\\training_{iteration}\\\\y_train.npy')\n",
    "\n",
    "X_val = np.load(f'{home_dir}\\\\data\\\\processed_data\\\\training_{iteration}\\\\X_val.npy')\n",
    "y_val = np.load(f'{home_dir}\\\\data\\\\processed_data\\\\training_{iteration}\\\\y_val.npy')\n",
    "\n",
    "X_test = np.load(f'{home_dir}\\\\data\\\\processed_data\\\\training_{iteration}\\\\X_test.npy')\n",
    "y_test = np.load(f'{home_dir}\\\\data\\\\processed_data\\\\training_{iteration}\\\\y_test.npy')"
   ]
  },
  {
   "cell_type": "code",
   "execution_count": 82,
   "metadata": {},
   "outputs": [],
   "source": [
    "def create_model(input_shape):\n",
    "    model = tf.keras.Sequential([\n",
    "        tf.keras.layers.InputLayer(shape=input_shape),\n",
    "        tf.keras.layers.Bidirectional(tf.keras.layers.LSTM(64, return_sequences=True, kernel_regularizer=regularizers.l2(0.001))),\n",
    "        tf.keras.layers.Dropout(0.2),\n",
    "        tf.keras.layers.Bidirectional(tf.keras.layers.LSTM(32, return_sequences=True, kernel_regularizer=regularizers.l2(0.001))),\n",
    "        tf.keras.layers.Dropout(0.2),\n",
    "        tf.keras.layers.Bidirectional(tf.keras.layers.LSTM(32, kernel_regularizer=regularizers.l2(0.001))),\n",
    "        tf.keras.layers.Dense(14, activation='relu'),  # Output layer with 14 neurons\n",
    "    ])\n",
    "    optimizer = Adam(learning_rate=0.001)\n",
    "    model.compile(optimizer=optimizer, loss='mse')\n",
    "    return model"
   ]
  },
  {
   "cell_type": "code",
   "execution_count": 9,
   "metadata": {},
   "outputs": [
    {
     "name": "stdout",
     "output_type": "stream",
     "text": [
      "(50104, 10, 60) (50104, 28)\n",
      "(50104, 6, 60) (50104, 14)\n"
     ]
    }
   ],
   "source": [
    "print(X_train.shape, y_train.shape)\n",
    "print(X_train[:,4:,:].shape, y_train[:,14:].shape)"
   ]
  },
  {
   "cell_type": "code",
   "execution_count": 83,
   "metadata": {},
   "outputs": [
    {
     "data": {
      "text/html": [
       "<pre style=\"white-space:pre;overflow-x:auto;line-height:normal;font-family:Menlo,'DejaVu Sans Mono',consolas,'Courier New',monospace\"><span style=\"font-weight: bold\">Model: \"sequential_9\"</span>\n",
       "</pre>\n"
      ],
      "text/plain": [
       "\u001b[1mModel: \"sequential_9\"\u001b[0m\n"
      ]
     },
     "metadata": {},
     "output_type": "display_data"
    },
    {
     "data": {
      "text/html": [
       "<pre style=\"white-space:pre;overflow-x:auto;line-height:normal;font-family:Menlo,'DejaVu Sans Mono',consolas,'Courier New',monospace\">┏━━━━━━━━━━━━━━━━━━━━━━━━━━━━━━━━━┳━━━━━━━━━━━━━━━━━━━━━━━━┳━━━━━━━━━━━━━━━┓\n",
       "┃<span style=\"font-weight: bold\"> Layer (type)                    </span>┃<span style=\"font-weight: bold\"> Output Shape           </span>┃<span style=\"font-weight: bold\">       Param # </span>┃\n",
       "┡━━━━━━━━━━━━━━━━━━━━━━━━━━━━━━━━━╇━━━━━━━━━━━━━━━━━━━━━━━━╇━━━━━━━━━━━━━━━┩\n",
       "│ bidirectional_27                │ (<span style=\"color: #00d7ff; text-decoration-color: #00d7ff\">None</span>, <span style=\"color: #00af00; text-decoration-color: #00af00\">6</span>, <span style=\"color: #00af00; text-decoration-color: #00af00\">128</span>)         │        <span style=\"color: #00af00; text-decoration-color: #00af00\">64,000</span> │\n",
       "│ (<span style=\"color: #0087ff; text-decoration-color: #0087ff\">Bidirectional</span>)                 │                        │               │\n",
       "├─────────────────────────────────┼────────────────────────┼───────────────┤\n",
       "│ dropout_12 (<span style=\"color: #0087ff; text-decoration-color: #0087ff\">Dropout</span>)            │ (<span style=\"color: #00d7ff; text-decoration-color: #00d7ff\">None</span>, <span style=\"color: #00af00; text-decoration-color: #00af00\">6</span>, <span style=\"color: #00af00; text-decoration-color: #00af00\">128</span>)         │             <span style=\"color: #00af00; text-decoration-color: #00af00\">0</span> │\n",
       "├─────────────────────────────────┼────────────────────────┼───────────────┤\n",
       "│ bidirectional_28                │ (<span style=\"color: #00d7ff; text-decoration-color: #00d7ff\">None</span>, <span style=\"color: #00af00; text-decoration-color: #00af00\">6</span>, <span style=\"color: #00af00; text-decoration-color: #00af00\">64</span>)          │        <span style=\"color: #00af00; text-decoration-color: #00af00\">41,216</span> │\n",
       "│ (<span style=\"color: #0087ff; text-decoration-color: #0087ff\">Bidirectional</span>)                 │                        │               │\n",
       "├─────────────────────────────────┼────────────────────────┼───────────────┤\n",
       "│ dropout_13 (<span style=\"color: #0087ff; text-decoration-color: #0087ff\">Dropout</span>)            │ (<span style=\"color: #00d7ff; text-decoration-color: #00d7ff\">None</span>, <span style=\"color: #00af00; text-decoration-color: #00af00\">6</span>, <span style=\"color: #00af00; text-decoration-color: #00af00\">64</span>)          │             <span style=\"color: #00af00; text-decoration-color: #00af00\">0</span> │\n",
       "├─────────────────────────────────┼────────────────────────┼───────────────┤\n",
       "│ bidirectional_29                │ (<span style=\"color: #00d7ff; text-decoration-color: #00d7ff\">None</span>, <span style=\"color: #00af00; text-decoration-color: #00af00\">64</span>)             │        <span style=\"color: #00af00; text-decoration-color: #00af00\">24,832</span> │\n",
       "│ (<span style=\"color: #0087ff; text-decoration-color: #0087ff\">Bidirectional</span>)                 │                        │               │\n",
       "├─────────────────────────────────┼────────────────────────┼───────────────┤\n",
       "│ dense_9 (<span style=\"color: #0087ff; text-decoration-color: #0087ff\">Dense</span>)                 │ (<span style=\"color: #00d7ff; text-decoration-color: #00d7ff\">None</span>, <span style=\"color: #00af00; text-decoration-color: #00af00\">14</span>)             │           <span style=\"color: #00af00; text-decoration-color: #00af00\">910</span> │\n",
       "└─────────────────────────────────┴────────────────────────┴───────────────┘\n",
       "</pre>\n"
      ],
      "text/plain": [
       "┏━━━━━━━━━━━━━━━━━━━━━━━━━━━━━━━━━┳━━━━━━━━━━━━━━━━━━━━━━━━┳━━━━━━━━━━━━━━━┓\n",
       "┃\u001b[1m \u001b[0m\u001b[1mLayer (type)                   \u001b[0m\u001b[1m \u001b[0m┃\u001b[1m \u001b[0m\u001b[1mOutput Shape          \u001b[0m\u001b[1m \u001b[0m┃\u001b[1m \u001b[0m\u001b[1m      Param #\u001b[0m\u001b[1m \u001b[0m┃\n",
       "┡━━━━━━━━━━━━━━━━━━━━━━━━━━━━━━━━━╇━━━━━━━━━━━━━━━━━━━━━━━━╇━━━━━━━━━━━━━━━┩\n",
       "│ bidirectional_27                │ (\u001b[38;5;45mNone\u001b[0m, \u001b[38;5;34m6\u001b[0m, \u001b[38;5;34m128\u001b[0m)         │        \u001b[38;5;34m64,000\u001b[0m │\n",
       "│ (\u001b[38;5;33mBidirectional\u001b[0m)                 │                        │               │\n",
       "├─────────────────────────────────┼────────────────────────┼───────────────┤\n",
       "│ dropout_12 (\u001b[38;5;33mDropout\u001b[0m)            │ (\u001b[38;5;45mNone\u001b[0m, \u001b[38;5;34m6\u001b[0m, \u001b[38;5;34m128\u001b[0m)         │             \u001b[38;5;34m0\u001b[0m │\n",
       "├─────────────────────────────────┼────────────────────────┼───────────────┤\n",
       "│ bidirectional_28                │ (\u001b[38;5;45mNone\u001b[0m, \u001b[38;5;34m6\u001b[0m, \u001b[38;5;34m64\u001b[0m)          │        \u001b[38;5;34m41,216\u001b[0m │\n",
       "│ (\u001b[38;5;33mBidirectional\u001b[0m)                 │                        │               │\n",
       "├─────────────────────────────────┼────────────────────────┼───────────────┤\n",
       "│ dropout_13 (\u001b[38;5;33mDropout\u001b[0m)            │ (\u001b[38;5;45mNone\u001b[0m, \u001b[38;5;34m6\u001b[0m, \u001b[38;5;34m64\u001b[0m)          │             \u001b[38;5;34m0\u001b[0m │\n",
       "├─────────────────────────────────┼────────────────────────┼───────────────┤\n",
       "│ bidirectional_29                │ (\u001b[38;5;45mNone\u001b[0m, \u001b[38;5;34m64\u001b[0m)             │        \u001b[38;5;34m24,832\u001b[0m │\n",
       "│ (\u001b[38;5;33mBidirectional\u001b[0m)                 │                        │               │\n",
       "├─────────────────────────────────┼────────────────────────┼───────────────┤\n",
       "│ dense_9 (\u001b[38;5;33mDense\u001b[0m)                 │ (\u001b[38;5;45mNone\u001b[0m, \u001b[38;5;34m14\u001b[0m)             │           \u001b[38;5;34m910\u001b[0m │\n",
       "└─────────────────────────────────┴────────────────────────┴───────────────┘\n"
      ]
     },
     "metadata": {},
     "output_type": "display_data"
    },
    {
     "data": {
      "text/html": [
       "<pre style=\"white-space:pre;overflow-x:auto;line-height:normal;font-family:Menlo,'DejaVu Sans Mono',consolas,'Courier New',monospace\"><span style=\"font-weight: bold\"> Total params: </span><span style=\"color: #00af00; text-decoration-color: #00af00\">130,958</span> (511.55 KB)\n",
       "</pre>\n"
      ],
      "text/plain": [
       "\u001b[1m Total params: \u001b[0m\u001b[38;5;34m130,958\u001b[0m (511.55 KB)\n"
      ]
     },
     "metadata": {},
     "output_type": "display_data"
    },
    {
     "data": {
      "text/html": [
       "<pre style=\"white-space:pre;overflow-x:auto;line-height:normal;font-family:Menlo,'DejaVu Sans Mono',consolas,'Courier New',monospace\"><span style=\"font-weight: bold\"> Trainable params: </span><span style=\"color: #00af00; text-decoration-color: #00af00\">130,958</span> (511.55 KB)\n",
       "</pre>\n"
      ],
      "text/plain": [
       "\u001b[1m Trainable params: \u001b[0m\u001b[38;5;34m130,958\u001b[0m (511.55 KB)\n"
      ]
     },
     "metadata": {},
     "output_type": "display_data"
    },
    {
     "data": {
      "text/html": [
       "<pre style=\"white-space:pre;overflow-x:auto;line-height:normal;font-family:Menlo,'DejaVu Sans Mono',consolas,'Courier New',monospace\"><span style=\"font-weight: bold\"> Non-trainable params: </span><span style=\"color: #00af00; text-decoration-color: #00af00\">0</span> (0.00 B)\n",
       "</pre>\n"
      ],
      "text/plain": [
       "\u001b[1m Non-trainable params: \u001b[0m\u001b[38;5;34m0\u001b[0m (0.00 B)\n"
      ]
     },
     "metadata": {},
     "output_type": "display_data"
    },
    {
     "name": "stdout",
     "output_type": "stream",
     "text": [
      "<class 'numpy.ndarray'> (50104, 10, 60)\n",
      "<class 'numpy.ndarray'> (50104, 28)\n",
      "\n",
      "Epoch 1/50\n",
      "\u001b[1m3128/3132\u001b[0m \u001b[32m━━━━━━━━━━━━━━━━━━━\u001b[0m\u001b[37m━\u001b[0m \u001b[1m0s\u001b[0m 5ms/step - loss: 0.1588\n",
      "Epoch 1: saving model to c:\\Users\\Matthew\\Desktop\\Projects\\StockPredictor\\model_checkpoints\\training_4\\cp-0001.weights.h5\n",
      "\u001b[1m3132/3132\u001b[0m \u001b[32m━━━━━━━━━━━━━━━━━━━━\u001b[0m\u001b[37m\u001b[0m \u001b[1m22s\u001b[0m 5ms/step - loss: 0.1586 - val_loss: 0.0066\n",
      "Epoch 2/50\n",
      "\u001b[1m3131/3132\u001b[0m \u001b[32m━━━━━━━━━━━━━━━━━━━\u001b[0m\u001b[37m━\u001b[0m \u001b[1m0s\u001b[0m 5ms/step - loss: 0.0068\n",
      "Epoch 2: saving model to c:\\Users\\Matthew\\Desktop\\Projects\\StockPredictor\\model_checkpoints\\training_4\\cp-0002.weights.h5\n",
      "\u001b[1m3132/3132\u001b[0m \u001b[32m━━━━━━━━━━━━━━━━━━━━\u001b[0m\u001b[37m\u001b[0m \u001b[1m15s\u001b[0m 5ms/step - loss: 0.0068 - val_loss: 0.0070\n",
      "Epoch 3/50\n",
      "\u001b[1m3126/3132\u001b[0m \u001b[32m━━━━━━━━━━━━━━━━━━━\u001b[0m\u001b[37m━\u001b[0m \u001b[1m0s\u001b[0m 5ms/step - loss: 0.0061\n",
      "Epoch 3: saving model to c:\\Users\\Matthew\\Desktop\\Projects\\StockPredictor\\model_checkpoints\\training_4\\cp-0003.weights.h5\n",
      "\u001b[1m3132/3132\u001b[0m \u001b[32m━━━━━━━━━━━━━━━━━━━━\u001b[0m\u001b[37m\u001b[0m \u001b[1m15s\u001b[0m 5ms/step - loss: 0.0061 - val_loss: 0.0082\n",
      "Epoch 4/50\n",
      "\u001b[1m3132/3132\u001b[0m \u001b[32m━━━━━━━━━━━━━━━━━━━━\u001b[0m\u001b[37m\u001b[0m \u001b[1m0s\u001b[0m 5ms/step - loss: 0.0061\n",
      "Epoch 4: saving model to c:\\Users\\Matthew\\Desktop\\Projects\\StockPredictor\\model_checkpoints\\training_4\\cp-0004.weights.h5\n",
      "\u001b[1m3132/3132\u001b[0m \u001b[32m━━━━━━━━━━━━━━━━━━━━\u001b[0m\u001b[37m\u001b[0m \u001b[1m16s\u001b[0m 5ms/step - loss: 0.0061 - val_loss: 0.0065\n",
      "Epoch 5/50\n",
      "\u001b[1m3124/3132\u001b[0m \u001b[32m━━━━━━━━━━━━━━━━━━━\u001b[0m\u001b[37m━\u001b[0m \u001b[1m0s\u001b[0m 5ms/step - loss: 0.0057\n",
      "Epoch 5: saving model to c:\\Users\\Matthew\\Desktop\\Projects\\StockPredictor\\model_checkpoints\\training_4\\cp-0005.weights.h5\n",
      "\u001b[1m3132/3132\u001b[0m \u001b[32m━━━━━━━━━━━━━━━━━━━━\u001b[0m\u001b[37m\u001b[0m \u001b[1m16s\u001b[0m 5ms/step - loss: 0.0057 - val_loss: 0.0054\n",
      "Epoch 6/50\n",
      "\u001b[1m3126/3132\u001b[0m \u001b[32m━━━━━━━━━━━━━━━━━━━\u001b[0m\u001b[37m━\u001b[0m \u001b[1m0s\u001b[0m 5ms/step - loss: 0.0056\n",
      "Epoch 6: saving model to c:\\Users\\Matthew\\Desktop\\Projects\\StockPredictor\\model_checkpoints\\training_4\\cp-0006.weights.h5\n",
      "\u001b[1m3132/3132\u001b[0m \u001b[32m━━━━━━━━━━━━━━━━━━━━\u001b[0m\u001b[37m\u001b[0m \u001b[1m16s\u001b[0m 5ms/step - loss: 0.0056 - val_loss: 0.0054\n",
      "Epoch 7/50\n",
      "\u001b[1m3131/3132\u001b[0m \u001b[32m━━━━━━━━━━━━━━━━━━━\u001b[0m\u001b[37m━\u001b[0m \u001b[1m0s\u001b[0m 5ms/step - loss: 0.0054\n",
      "Epoch 7: saving model to c:\\Users\\Matthew\\Desktop\\Projects\\StockPredictor\\model_checkpoints\\training_4\\cp-0007.weights.h5\n",
      "\u001b[1m3132/3132\u001b[0m \u001b[32m━━━━━━━━━━━━━━━━━━━━\u001b[0m\u001b[37m\u001b[0m \u001b[1m15s\u001b[0m 5ms/step - loss: 0.0054 - val_loss: 0.0065\n",
      "Epoch 8/50\n",
      "\u001b[1m3132/3132\u001b[0m \u001b[32m━━━━━━━━━━━━━━━━━━━━\u001b[0m\u001b[37m\u001b[0m \u001b[1m0s\u001b[0m 5ms/step - loss: 0.0054\n",
      "Epoch 8: saving model to c:\\Users\\Matthew\\Desktop\\Projects\\StockPredictor\\model_checkpoints\\training_4\\cp-0008.weights.h5\n",
      "\u001b[1m3132/3132\u001b[0m \u001b[32m━━━━━━━━━━━━━━━━━━━━\u001b[0m\u001b[37m\u001b[0m \u001b[1m16s\u001b[0m 5ms/step - loss: 0.0054 - val_loss: 0.0050\n",
      "Epoch 9/50\n",
      "\u001b[1m3127/3132\u001b[0m \u001b[32m━━━━━━━━━━━━━━━━━━━\u001b[0m\u001b[37m━\u001b[0m \u001b[1m0s\u001b[0m 5ms/step - loss: 0.0053\n",
      "Epoch 9: saving model to c:\\Users\\Matthew\\Desktop\\Projects\\StockPredictor\\model_checkpoints\\training_4\\cp-0009.weights.h5\n",
      "\u001b[1m3132/3132\u001b[0m \u001b[32m━━━━━━━━━━━━━━━━━━━━\u001b[0m\u001b[37m\u001b[0m \u001b[1m15s\u001b[0m 5ms/step - loss: 0.0053 - val_loss: 0.0086\n",
      "Epoch 10/50\n",
      "\u001b[1m3122/3132\u001b[0m \u001b[32m━━━━━━━━━━━━━━━━━━━\u001b[0m\u001b[37m━\u001b[0m \u001b[1m0s\u001b[0m 5ms/step - loss: 0.0051\n",
      "Epoch 10: saving model to c:\\Users\\Matthew\\Desktop\\Projects\\StockPredictor\\model_checkpoints\\training_4\\cp-0010.weights.h5\n",
      "\u001b[1m3132/3132\u001b[0m \u001b[32m━━━━━━━━━━━━━━━━━━━━\u001b[0m\u001b[37m\u001b[0m \u001b[1m16s\u001b[0m 5ms/step - loss: 0.0051 - val_loss: 0.0050\n",
      "Epoch 11/50\n",
      "\u001b[1m3123/3132\u001b[0m \u001b[32m━━━━━━━━━━━━━━━━━━━\u001b[0m\u001b[37m━\u001b[0m \u001b[1m0s\u001b[0m 5ms/step - loss: 0.0053\n",
      "Epoch 11: saving model to c:\\Users\\Matthew\\Desktop\\Projects\\StockPredictor\\model_checkpoints\\training_4\\cp-0011.weights.h5\n",
      "\u001b[1m3132/3132\u001b[0m \u001b[32m━━━━━━━━━━━━━━━━━━━━\u001b[0m\u001b[37m\u001b[0m \u001b[1m16s\u001b[0m 5ms/step - loss: 0.0053 - val_loss: 0.0051\n",
      "Epoch 12/50\n",
      "\u001b[1m3130/3132\u001b[0m \u001b[32m━━━━━━━━━━━━━━━━━━━\u001b[0m\u001b[37m━\u001b[0m \u001b[1m0s\u001b[0m 5ms/step - loss: 0.0050\n",
      "Epoch 12: saving model to c:\\Users\\Matthew\\Desktop\\Projects\\StockPredictor\\model_checkpoints\\training_4\\cp-0012.weights.h5\n",
      "\u001b[1m3132/3132\u001b[0m \u001b[32m━━━━━━━━━━━━━━━━━━━━\u001b[0m\u001b[37m\u001b[0m \u001b[1m16s\u001b[0m 5ms/step - loss: 0.0050 - val_loss: 0.0070\n",
      "Epoch 13/50\n",
      "\u001b[1m3128/3132\u001b[0m \u001b[32m━━━━━━━━━━━━━━━━━━━\u001b[0m\u001b[37m━\u001b[0m \u001b[1m0s\u001b[0m 5ms/step - loss: 0.0054\n",
      "Epoch 13: saving model to c:\\Users\\Matthew\\Desktop\\Projects\\StockPredictor\\model_checkpoints\\training_4\\cp-0013.weights.h5\n",
      "\u001b[1m3132/3132\u001b[0m \u001b[32m━━━━━━━━━━━━━━━━━━━━\u001b[0m\u001b[37m\u001b[0m \u001b[1m16s\u001b[0m 5ms/step - loss: 0.0054 - val_loss: 0.0048\n",
      "Epoch 14/50\n",
      "\u001b[1m3131/3132\u001b[0m \u001b[32m━━━━━━━━━━━━━━━━━━━\u001b[0m\u001b[37m━\u001b[0m \u001b[1m0s\u001b[0m 5ms/step - loss: 0.0052\n",
      "Epoch 14: saving model to c:\\Users\\Matthew\\Desktop\\Projects\\StockPredictor\\model_checkpoints\\training_4\\cp-0014.weights.h5\n",
      "\u001b[1m3132/3132\u001b[0m \u001b[32m━━━━━━━━━━━━━━━━━━━━\u001b[0m\u001b[37m\u001b[0m \u001b[1m16s\u001b[0m 5ms/step - loss: 0.0052 - val_loss: 0.0048\n",
      "Epoch 15/50\n",
      "\u001b[1m3130/3132\u001b[0m \u001b[32m━━━━━━━━━━━━━━━━━━━\u001b[0m\u001b[37m━\u001b[0m \u001b[1m0s\u001b[0m 5ms/step - loss: 0.0049\n",
      "Epoch 15: saving model to c:\\Users\\Matthew\\Desktop\\Projects\\StockPredictor\\model_checkpoints\\training_4\\cp-0015.weights.h5\n",
      "\u001b[1m3132/3132\u001b[0m \u001b[32m━━━━━━━━━━━━━━━━━━━━\u001b[0m\u001b[37m\u001b[0m \u001b[1m16s\u001b[0m 5ms/step - loss: 0.0049 - val_loss: 0.0050\n",
      "Epoch 16/50\n",
      "\u001b[1m3130/3132\u001b[0m \u001b[32m━━━━━━━━━━━━━━━━━━━\u001b[0m\u001b[37m━\u001b[0m \u001b[1m0s\u001b[0m 5ms/step - loss: 0.0051\n",
      "Epoch 16: saving model to c:\\Users\\Matthew\\Desktop\\Projects\\StockPredictor\\model_checkpoints\\training_4\\cp-0016.weights.h5\n",
      "\u001b[1m3132/3132\u001b[0m \u001b[32m━━━━━━━━━━━━━━━━━━━━\u001b[0m\u001b[37m\u001b[0m \u001b[1m16s\u001b[0m 5ms/step - loss: 0.0051 - val_loss: 0.0048\n",
      "Epoch 17/50\n",
      "\u001b[1m3122/3132\u001b[0m \u001b[32m━━━━━━━━━━━━━━━━━━━\u001b[0m\u001b[37m━\u001b[0m \u001b[1m0s\u001b[0m 5ms/step - loss: 0.0050\n",
      "Epoch 17: saving model to c:\\Users\\Matthew\\Desktop\\Projects\\StockPredictor\\model_checkpoints\\training_4\\cp-0017.weights.h5\n",
      "\u001b[1m3132/3132\u001b[0m \u001b[32m━━━━━━━━━━━━━━━━━━━━\u001b[0m\u001b[37m\u001b[0m \u001b[1m16s\u001b[0m 5ms/step - loss: 0.0050 - val_loss: 0.0048\n",
      "Epoch 18/50\n",
      "\u001b[1m3125/3132\u001b[0m \u001b[32m━━━━━━━━━━━━━━━━━━━\u001b[0m\u001b[37m━\u001b[0m \u001b[1m0s\u001b[0m 5ms/step - loss: 0.0052\n",
      "Epoch 18: saving model to c:\\Users\\Matthew\\Desktop\\Projects\\StockPredictor\\model_checkpoints\\training_4\\cp-0018.weights.h5\n",
      "\u001b[1m3132/3132\u001b[0m \u001b[32m━━━━━━━━━━━━━━━━━━━━\u001b[0m\u001b[37m\u001b[0m \u001b[1m16s\u001b[0m 5ms/step - loss: 0.0052 - val_loss: 0.0049\n",
      "Epoch 19/50\n",
      "\u001b[1m3128/3132\u001b[0m \u001b[32m━━━━━━━━━━━━━━━━━━━\u001b[0m\u001b[37m━\u001b[0m \u001b[1m0s\u001b[0m 5ms/step - loss: 0.0049\n",
      "Epoch 19: saving model to c:\\Users\\Matthew\\Desktop\\Projects\\StockPredictor\\model_checkpoints\\training_4\\cp-0019.weights.h5\n",
      "\u001b[1m3132/3132\u001b[0m \u001b[32m━━━━━━━━━━━━━━━━━━━━\u001b[0m\u001b[37m\u001b[0m \u001b[1m16s\u001b[0m 5ms/step - loss: 0.0049 - val_loss: 0.0065\n",
      "Epoch 20/50\n",
      "\u001b[1m3127/3132\u001b[0m \u001b[32m━━━━━━━━━━━━━━━━━━━\u001b[0m\u001b[37m━\u001b[0m \u001b[1m0s\u001b[0m 5ms/step - loss: 0.0049\n",
      "Epoch 20: saving model to c:\\Users\\Matthew\\Desktop\\Projects\\StockPredictor\\model_checkpoints\\training_4\\cp-0020.weights.h5\n",
      "\u001b[1m3132/3132\u001b[0m \u001b[32m━━━━━━━━━━━━━━━━━━━━\u001b[0m\u001b[37m\u001b[0m \u001b[1m17s\u001b[0m 5ms/step - loss: 0.0049 - val_loss: 0.0050\n",
      "Epoch 21/50\n",
      "\u001b[1m3128/3132\u001b[0m \u001b[32m━━━━━━━━━━━━━━━━━━━\u001b[0m\u001b[37m━\u001b[0m \u001b[1m0s\u001b[0m 5ms/step - loss: 0.0052\n",
      "Epoch 21: saving model to c:\\Users\\Matthew\\Desktop\\Projects\\StockPredictor\\model_checkpoints\\training_4\\cp-0021.weights.h5\n",
      "\u001b[1m3132/3132\u001b[0m \u001b[32m━━━━━━━━━━━━━━━━━━━━\u001b[0m\u001b[37m\u001b[0m \u001b[1m16s\u001b[0m 5ms/step - loss: 0.0052 - val_loss: 0.0049\n",
      "Epoch 22/50\n",
      "\u001b[1m3126/3132\u001b[0m \u001b[32m━━━━━━━━━━━━━━━━━━━\u001b[0m\u001b[37m━\u001b[0m \u001b[1m0s\u001b[0m 5ms/step - loss: 0.0051\n",
      "Epoch 22: saving model to c:\\Users\\Matthew\\Desktop\\Projects\\StockPredictor\\model_checkpoints\\training_4\\cp-0022.weights.h5\n",
      "\u001b[1m3132/3132\u001b[0m \u001b[32m━━━━━━━━━━━━━━━━━━━━\u001b[0m\u001b[37m\u001b[0m \u001b[1m15s\u001b[0m 5ms/step - loss: 0.0051 - val_loss: 0.0049\n",
      "Epoch 23/50\n",
      "\u001b[1m3131/3132\u001b[0m \u001b[32m━━━━━━━━━━━━━━━━━━━\u001b[0m\u001b[37m━\u001b[0m \u001b[1m0s\u001b[0m 5ms/step - loss: 0.0050\n",
      "Epoch 23: saving model to c:\\Users\\Matthew\\Desktop\\Projects\\StockPredictor\\model_checkpoints\\training_4\\cp-0023.weights.h5\n",
      "\u001b[1m3132/3132\u001b[0m \u001b[32m━━━━━━━━━━━━━━━━━━━━\u001b[0m\u001b[37m\u001b[0m \u001b[1m17s\u001b[0m 5ms/step - loss: 0.0050 - val_loss: 0.0049\n",
      "Epoch 24/50\n",
      "\u001b[1m3130/3132\u001b[0m \u001b[32m━━━━━━━━━━━━━━━━━━━\u001b[0m\u001b[37m━\u001b[0m \u001b[1m0s\u001b[0m 5ms/step - loss: 0.0051\n",
      "Epoch 24: saving model to c:\\Users\\Matthew\\Desktop\\Projects\\StockPredictor\\model_checkpoints\\training_4\\cp-0024.weights.h5\n",
      "\u001b[1m3132/3132\u001b[0m \u001b[32m━━━━━━━━━━━━━━━━━━━━\u001b[0m\u001b[37m\u001b[0m \u001b[1m17s\u001b[0m 5ms/step - loss: 0.0051 - val_loss: 0.0049\n",
      "Epoch 25/50\n",
      "\u001b[1m3132/3132\u001b[0m \u001b[32m━━━━━━━━━━━━━━━━━━━━\u001b[0m\u001b[37m\u001b[0m \u001b[1m0s\u001b[0m 5ms/step - loss: 0.0050\n",
      "Epoch 25: saving model to c:\\Users\\Matthew\\Desktop\\Projects\\StockPredictor\\model_checkpoints\\training_4\\cp-0025.weights.h5\n",
      "\u001b[1m3132/3132\u001b[0m \u001b[32m━━━━━━━━━━━━━━━━━━━━\u001b[0m\u001b[37m\u001b[0m \u001b[1m17s\u001b[0m 5ms/step - loss: 0.0050 - val_loss: 0.0048\n",
      "Epoch 26/50\n",
      "\u001b[1m3132/3132\u001b[0m \u001b[32m━━━━━━━━━━━━━━━━━━━━\u001b[0m\u001b[37m\u001b[0m \u001b[1m0s\u001b[0m 5ms/step - loss: 0.0048\n",
      "Epoch 26: saving model to c:\\Users\\Matthew\\Desktop\\Projects\\StockPredictor\\model_checkpoints\\training_4\\cp-0026.weights.h5\n",
      "\u001b[1m3132/3132\u001b[0m \u001b[32m━━━━━━━━━━━━━━━━━━━━\u001b[0m\u001b[37m\u001b[0m \u001b[1m17s\u001b[0m 5ms/step - loss: 0.0048 - val_loss: 0.0054\n",
      "Epoch 27/50\n",
      "\u001b[1m3129/3132\u001b[0m \u001b[32m━━━━━━━━━━━━━━━━━━━\u001b[0m\u001b[37m━\u001b[0m \u001b[1m0s\u001b[0m 5ms/step - loss: 0.0050\n",
      "Epoch 27: saving model to c:\\Users\\Matthew\\Desktop\\Projects\\StockPredictor\\model_checkpoints\\training_4\\cp-0027.weights.h5\n",
      "\u001b[1m3132/3132\u001b[0m \u001b[32m━━━━━━━━━━━━━━━━━━━━\u001b[0m\u001b[37m\u001b[0m \u001b[1m17s\u001b[0m 5ms/step - loss: 0.0050 - val_loss: 0.0049\n",
      "Epoch 28/50\n",
      "\u001b[1m3131/3132\u001b[0m \u001b[32m━━━━━━━━━━━━━━━━━━━\u001b[0m\u001b[37m━\u001b[0m \u001b[1m0s\u001b[0m 5ms/step - loss: 0.0049\n",
      "Epoch 28: saving model to c:\\Users\\Matthew\\Desktop\\Projects\\StockPredictor\\model_checkpoints\\training_4\\cp-0028.weights.h5\n",
      "\u001b[1m3132/3132\u001b[0m \u001b[32m━━━━━━━━━━━━━━━━━━━━\u001b[0m\u001b[37m\u001b[0m \u001b[1m17s\u001b[0m 6ms/step - loss: 0.0049 - val_loss: 0.0047\n",
      "Epoch 29/50\n",
      "\u001b[1m3127/3132\u001b[0m \u001b[32m━━━━━━━━━━━━━━━━━━━\u001b[0m\u001b[37m━\u001b[0m \u001b[1m0s\u001b[0m 5ms/step - loss: 0.0048\n",
      "Epoch 29: saving model to c:\\Users\\Matthew\\Desktop\\Projects\\StockPredictor\\model_checkpoints\\training_4\\cp-0029.weights.h5\n",
      "\u001b[1m3132/3132\u001b[0m \u001b[32m━━━━━━━━━━━━━━━━━━━━\u001b[0m\u001b[37m\u001b[0m \u001b[1m17s\u001b[0m 5ms/step - loss: 0.0048 - val_loss: 0.0048\n",
      "Epoch 30/50\n",
      "\u001b[1m3129/3132\u001b[0m \u001b[32m━━━━━━━━━━━━━━━━━━━\u001b[0m\u001b[37m━\u001b[0m \u001b[1m0s\u001b[0m 5ms/step - loss: 0.0046\n",
      "Epoch 30: saving model to c:\\Users\\Matthew\\Desktop\\Projects\\StockPredictor\\model_checkpoints\\training_4\\cp-0030.weights.h5\n",
      "\u001b[1m3132/3132\u001b[0m \u001b[32m━━━━━━━━━━━━━━━━━━━━\u001b[0m\u001b[37m\u001b[0m \u001b[1m17s\u001b[0m 6ms/step - loss: 0.0046 - val_loss: 0.0049\n",
      "Epoch 31/50\n",
      "\u001b[1m3122/3132\u001b[0m \u001b[32m━━━━━━━━━━━━━━━━━━━\u001b[0m\u001b[37m━\u001b[0m \u001b[1m0s\u001b[0m 5ms/step - loss: 0.0049\n",
      "Epoch 31: saving model to c:\\Users\\Matthew\\Desktop\\Projects\\StockPredictor\\model_checkpoints\\training_4\\cp-0031.weights.h5\n",
      "\u001b[1m3132/3132\u001b[0m \u001b[32m━━━━━━━━━━━━━━━━━━━━\u001b[0m\u001b[37m\u001b[0m \u001b[1m15s\u001b[0m 5ms/step - loss: 0.0049 - val_loss: 0.0050\n",
      "Epoch 32/50\n",
      "\u001b[1m3124/3132\u001b[0m \u001b[32m━━━━━━━━━━━━━━━━━━━\u001b[0m\u001b[37m━\u001b[0m \u001b[1m0s\u001b[0m 5ms/step - loss: 0.0047\n",
      "Epoch 32: saving model to c:\\Users\\Matthew\\Desktop\\Projects\\StockPredictor\\model_checkpoints\\training_4\\cp-0032.weights.h5\n",
      "\u001b[1m3132/3132\u001b[0m \u001b[32m━━━━━━━━━━━━━━━━━━━━\u001b[0m\u001b[37m\u001b[0m \u001b[1m15s\u001b[0m 5ms/step - loss: 0.0047 - val_loss: 0.0049\n",
      "Epoch 33/50\n",
      "\u001b[1m3122/3132\u001b[0m \u001b[32m━━━━━━━━━━━━━━━━━━━\u001b[0m\u001b[37m━\u001b[0m \u001b[1m0s\u001b[0m 5ms/step - loss: 0.0051\n",
      "Epoch 33: saving model to c:\\Users\\Matthew\\Desktop\\Projects\\StockPredictor\\model_checkpoints\\training_4\\cp-0033.weights.h5\n",
      "\u001b[1m3132/3132\u001b[0m \u001b[32m━━━━━━━━━━━━━━━━━━━━\u001b[0m\u001b[37m\u001b[0m \u001b[1m15s\u001b[0m 5ms/step - loss: 0.0051 - val_loss: 0.0048\n",
      "Epoch 34/50\n",
      "\u001b[1m3129/3132\u001b[0m \u001b[32m━━━━━━━━━━━━━━━━━━━\u001b[0m\u001b[37m━\u001b[0m \u001b[1m0s\u001b[0m 5ms/step - loss: 0.0048\n",
      "Epoch 34: saving model to c:\\Users\\Matthew\\Desktop\\Projects\\StockPredictor\\model_checkpoints\\training_4\\cp-0034.weights.h5\n",
      "\u001b[1m3132/3132\u001b[0m \u001b[32m━━━━━━━━━━━━━━━━━━━━\u001b[0m\u001b[37m\u001b[0m \u001b[1m15s\u001b[0m 5ms/step - loss: 0.0048 - val_loss: 0.0047\n",
      "Epoch 35/50\n",
      "\u001b[1m3128/3132\u001b[0m \u001b[32m━━━━━━━━━━━━━━━━━━━\u001b[0m\u001b[37m━\u001b[0m \u001b[1m0s\u001b[0m 5ms/step - loss: 0.0048\n",
      "Epoch 35: saving model to c:\\Users\\Matthew\\Desktop\\Projects\\StockPredictor\\model_checkpoints\\training_4\\cp-0035.weights.h5\n",
      "\u001b[1m3132/3132\u001b[0m \u001b[32m━━━━━━━━━━━━━━━━━━━━\u001b[0m\u001b[37m\u001b[0m \u001b[1m15s\u001b[0m 5ms/step - loss: 0.0048 - val_loss: 0.0052\n",
      "Epoch 36/50\n",
      "\u001b[1m3121/3132\u001b[0m \u001b[32m━━━━━━━━━━━━━━━━━━━\u001b[0m\u001b[37m━\u001b[0m \u001b[1m0s\u001b[0m 5ms/step - loss: 0.0049\n",
      "Epoch 36: saving model to c:\\Users\\Matthew\\Desktop\\Projects\\StockPredictor\\model_checkpoints\\training_4\\cp-0036.weights.h5\n",
      "\u001b[1m3132/3132\u001b[0m \u001b[32m━━━━━━━━━━━━━━━━━━━━\u001b[0m\u001b[37m\u001b[0m \u001b[1m15s\u001b[0m 5ms/step - loss: 0.0049 - val_loss: 0.0048\n",
      "Epoch 37/50\n",
      "\u001b[1m3127/3132\u001b[0m \u001b[32m━━━━━━━━━━━━━━━━━━━\u001b[0m\u001b[37m━\u001b[0m \u001b[1m0s\u001b[0m 5ms/step - loss: 0.0048\n",
      "Epoch 37: saving model to c:\\Users\\Matthew\\Desktop\\Projects\\StockPredictor\\model_checkpoints\\training_4\\cp-0037.weights.h5\n",
      "\u001b[1m3132/3132\u001b[0m \u001b[32m━━━━━━━━━━━━━━━━━━━━\u001b[0m\u001b[37m\u001b[0m \u001b[1m15s\u001b[0m 5ms/step - loss: 0.0048 - val_loss: 0.0058\n",
      "Epoch 38/50\n",
      "\u001b[1m3130/3132\u001b[0m \u001b[32m━━━━━━━━━━━━━━━━━━━\u001b[0m\u001b[37m━\u001b[0m \u001b[1m0s\u001b[0m 5ms/step - loss: 0.0049\n",
      "Epoch 38: saving model to c:\\Users\\Matthew\\Desktop\\Projects\\StockPredictor\\model_checkpoints\\training_4\\cp-0038.weights.h5\n",
      "\u001b[1m3132/3132\u001b[0m \u001b[32m━━━━━━━━━━━━━━━━━━━━\u001b[0m\u001b[37m\u001b[0m \u001b[1m15s\u001b[0m 5ms/step - loss: 0.0049 - val_loss: 0.0047\n",
      "Epoch 39/50\n",
      "\u001b[1m3126/3132\u001b[0m \u001b[32m━━━━━━━━━━━━━━━━━━━\u001b[0m\u001b[37m━\u001b[0m \u001b[1m0s\u001b[0m 5ms/step - loss: 0.0046\n",
      "Epoch 39: saving model to c:\\Users\\Matthew\\Desktop\\Projects\\StockPredictor\\model_checkpoints\\training_4\\cp-0039.weights.h5\n",
      "\u001b[1m3132/3132\u001b[0m \u001b[32m━━━━━━━━━━━━━━━━━━━━\u001b[0m\u001b[37m\u001b[0m \u001b[1m15s\u001b[0m 5ms/step - loss: 0.0046 - val_loss: 0.0051\n",
      "Epoch 40/50\n",
      "\u001b[1m3130/3132\u001b[0m \u001b[32m━━━━━━━━━━━━━━━━━━━\u001b[0m\u001b[37m━\u001b[0m \u001b[1m0s\u001b[0m 5ms/step - loss: 0.0046\n",
      "Epoch 40: saving model to c:\\Users\\Matthew\\Desktop\\Projects\\StockPredictor\\model_checkpoints\\training_4\\cp-0040.weights.h5\n",
      "\u001b[1m3132/3132\u001b[0m \u001b[32m━━━━━━━━━━━━━━━━━━━━\u001b[0m\u001b[37m\u001b[0m \u001b[1m15s\u001b[0m 5ms/step - loss: 0.0046 - val_loss: 0.0049\n",
      "Epoch 41/50\n",
      "\u001b[1m3131/3132\u001b[0m \u001b[32m━━━━━━━━━━━━━━━━━━━\u001b[0m\u001b[37m━\u001b[0m \u001b[1m0s\u001b[0m 5ms/step - loss: 0.0049\n",
      "Epoch 41: saving model to c:\\Users\\Matthew\\Desktop\\Projects\\StockPredictor\\model_checkpoints\\training_4\\cp-0041.weights.h5\n",
      "\u001b[1m3132/3132\u001b[0m \u001b[32m━━━━━━━━━━━━━━━━━━━━\u001b[0m\u001b[37m\u001b[0m \u001b[1m15s\u001b[0m 5ms/step - loss: 0.0049 - val_loss: 0.0048\n",
      "Epoch 42/50\n",
      "\u001b[1m3129/3132\u001b[0m \u001b[32m━━━━━━━━━━━━━━━━━━━\u001b[0m\u001b[37m━\u001b[0m \u001b[1m0s\u001b[0m 5ms/step - loss: 0.0048\n",
      "Epoch 42: saving model to c:\\Users\\Matthew\\Desktop\\Projects\\StockPredictor\\model_checkpoints\\training_4\\cp-0042.weights.h5\n",
      "\u001b[1m3132/3132\u001b[0m \u001b[32m━━━━━━━━━━━━━━━━━━━━\u001b[0m\u001b[37m\u001b[0m \u001b[1m15s\u001b[0m 5ms/step - loss: 0.0048 - val_loss: 0.0052\n",
      "Epoch 43/50\n",
      "\u001b[1m3131/3132\u001b[0m \u001b[32m━━━━━━━━━━━━━━━━━━━\u001b[0m\u001b[37m━\u001b[0m \u001b[1m0s\u001b[0m 5ms/step - loss: 0.0047\n",
      "Epoch 43: saving model to c:\\Users\\Matthew\\Desktop\\Projects\\StockPredictor\\model_checkpoints\\training_4\\cp-0043.weights.h5\n",
      "\u001b[1m3132/3132\u001b[0m \u001b[32m━━━━━━━━━━━━━━━━━━━━\u001b[0m\u001b[37m\u001b[0m \u001b[1m15s\u001b[0m 5ms/step - loss: 0.0047 - val_loss: 0.0050\n",
      "Epoch 44/50\n",
      "\u001b[1m3124/3132\u001b[0m \u001b[32m━━━━━━━━━━━━━━━━━━━\u001b[0m\u001b[37m━\u001b[0m \u001b[1m0s\u001b[0m 5ms/step - loss: 0.0047\n",
      "Epoch 44: saving model to c:\\Users\\Matthew\\Desktop\\Projects\\StockPredictor\\model_checkpoints\\training_4\\cp-0044.weights.h5\n",
      "\u001b[1m3132/3132\u001b[0m \u001b[32m━━━━━━━━━━━━━━━━━━━━\u001b[0m\u001b[37m\u001b[0m \u001b[1m15s\u001b[0m 5ms/step - loss: 0.0047 - val_loss: 0.0054\n",
      "Epoch 45/50\n",
      "\u001b[1m3124/3132\u001b[0m \u001b[32m━━━━━━━━━━━━━━━━━━━\u001b[0m\u001b[37m━\u001b[0m \u001b[1m0s\u001b[0m 5ms/step - loss: 0.0048\n",
      "Epoch 45: saving model to c:\\Users\\Matthew\\Desktop\\Projects\\StockPredictor\\model_checkpoints\\training_4\\cp-0045.weights.h5\n",
      "\u001b[1m3132/3132\u001b[0m \u001b[32m━━━━━━━━━━━━━━━━━━━━\u001b[0m\u001b[37m\u001b[0m \u001b[1m15s\u001b[0m 5ms/step - loss: 0.0048 - val_loss: 0.0057\n",
      "Epoch 46/50\n",
      "\u001b[1m3128/3132\u001b[0m \u001b[32m━━━━━━━━━━━━━━━━━━━\u001b[0m\u001b[37m━\u001b[0m \u001b[1m0s\u001b[0m 5ms/step - loss: 0.0049\n",
      "Epoch 46: saving model to c:\\Users\\Matthew\\Desktop\\Projects\\StockPredictor\\model_checkpoints\\training_4\\cp-0046.weights.h5\n",
      "\u001b[1m3132/3132\u001b[0m \u001b[32m━━━━━━━━━━━━━━━━━━━━\u001b[0m\u001b[37m\u001b[0m \u001b[1m15s\u001b[0m 5ms/step - loss: 0.0049 - val_loss: 0.0055\n",
      "Epoch 47/50\n",
      "\u001b[1m3129/3132\u001b[0m \u001b[32m━━━━━━━━━━━━━━━━━━━\u001b[0m\u001b[37m━\u001b[0m \u001b[1m0s\u001b[0m 5ms/step - loss: 0.0048\n",
      "Epoch 47: saving model to c:\\Users\\Matthew\\Desktop\\Projects\\StockPredictor\\model_checkpoints\\training_4\\cp-0047.weights.h5\n",
      "\u001b[1m3132/3132\u001b[0m \u001b[32m━━━━━━━━━━━━━━━━━━━━\u001b[0m\u001b[37m\u001b[0m \u001b[1m15s\u001b[0m 5ms/step - loss: 0.0048 - val_loss: 0.0049\n",
      "Epoch 48/50\n",
      "\u001b[1m3125/3132\u001b[0m \u001b[32m━━━━━━━━━━━━━━━━━━━\u001b[0m\u001b[37m━\u001b[0m \u001b[1m0s\u001b[0m 5ms/step - loss: 0.0049\n",
      "Epoch 48: saving model to c:\\Users\\Matthew\\Desktop\\Projects\\StockPredictor\\model_checkpoints\\training_4\\cp-0048.weights.h5\n",
      "\u001b[1m3132/3132\u001b[0m \u001b[32m━━━━━━━━━━━━━━━━━━━━\u001b[0m\u001b[37m\u001b[0m \u001b[1m15s\u001b[0m 5ms/step - loss: 0.0049 - val_loss: 0.0048\n",
      "Epoch 49/50\n",
      "\u001b[1m3130/3132\u001b[0m \u001b[32m━━━━━━━━━━━━━━━━━━━\u001b[0m\u001b[37m━\u001b[0m \u001b[1m0s\u001b[0m 5ms/step - loss: 0.0048\n",
      "Epoch 49: saving model to c:\\Users\\Matthew\\Desktop\\Projects\\StockPredictor\\model_checkpoints\\training_4\\cp-0049.weights.h5\n",
      "\u001b[1m3132/3132\u001b[0m \u001b[32m━━━━━━━━━━━━━━━━━━━━\u001b[0m\u001b[37m\u001b[0m \u001b[1m15s\u001b[0m 5ms/step - loss: 0.0048 - val_loss: 0.0050\n",
      "Epoch 50/50\n",
      "\u001b[1m3127/3132\u001b[0m \u001b[32m━━━━━━━━━━━━━━━━━━━\u001b[0m\u001b[37m━\u001b[0m \u001b[1m0s\u001b[0m 5ms/step - loss: 0.0046\n",
      "Epoch 50: saving model to c:\\Users\\Matthew\\Desktop\\Projects\\StockPredictor\\model_checkpoints\\training_4\\cp-0050.weights.h5\n",
      "\u001b[1m3132/3132\u001b[0m \u001b[32m━━━━━━━━━━━━━━━━━━━━\u001b[0m\u001b[37m\u001b[0m \u001b[1m15s\u001b[0m 5ms/step - loss: 0.0046 - val_loss: 0.0049\n"
     ]
    }
   ],
   "source": [
    "# Checkpoint system\n",
    "checkpoint_path = os.path.join(home_dir, \"model_checkpoints\", f\"training_{iteration}\", \"cp-{epoch:04d}.weights.h5\")\n",
    "checkpoint_dir = os.path.dirname(checkpoint_path)\n",
    "\n",
    "os.makedirs(checkpoint_dir, exist_ok=True)\n",
    "\n",
    "# Create a callback that saves the model's weights\n",
    "cp_callback = tf.keras.callbacks.ModelCheckpoint(\n",
    "    checkpoint_path, save_weights_only=True, verbose=1\n",
    ")\n",
    "\n",
    "input_shape = (6, 60)\n",
    "model = create_model(input_shape)\n",
    "\n",
    "model.summary()\n",
    "print(type(X_train), X_train.shape)\n",
    "print(type(y_train), y_train.shape)\n",
    "print()\n",
    "\n",
    "# Train the model with the checkpoint callback\n",
    "history = model.fit(X_train[:,4:,:], y_train[:,14:], validation_data=(X_val[:,4:,:], y_val[:,14:]), epochs=50, batch_size=16, callbacks=[cp_callback])"
   ]
  },
  {
   "cell_type": "code",
   "execution_count": 35,
   "metadata": {},
   "outputs": [],
   "source": [
    "def plot_loss(history):\n",
    "    plt.plot(history.history['loss'], label='Training Loss')\n",
    "    plt.plot(history.history['val_loss'], label='Validation Loss')\n",
    "    plt.title('Model Loss')\n",
    "    plt.xlabel('Epoch')\n",
    "    plt.ylabel('Loss (MSE)')\n",
    "    plt.legend(loc='upper right')\n",
    "    plt.grid(True)\n",
    "    plt.show()"
   ]
  },
  {
   "cell_type": "code",
   "execution_count": 84,
   "metadata": {},
   "outputs": [
    {
     "data": {
      "image/png": "[encoded data removed]",
      "text/plain": [
       "<Figure size 640x480 with 1 Axes>"
      ]
     },
     "metadata": {},
     "output_type": "display_data"
    }
   ],
   "source": [
    "plot_loss(history)"
   ]
  },
  {
   "cell_type": "code",
   "execution_count": 85,
   "metadata": {},
   "outputs": [],
   "source": [
    "model_directory = os.path.join(home_dir, \"saved_models\")\n",
    "model_name = f\"model_{iteration}.keras\"\n",
    "\n",
    "os.makedirs(model_directory, exist_ok=True)\n",
    "\n",
    "model.save(os.path.join(model_directory, model_name))"
   ]
  }
 ],
 "metadata": {
  "kernelspec": {
   "display_name": "Python 3",
   "language": "python",
   "name": "python3"
  },
  "language_info": {
   "codemirror_mode": {
    "name": "ipython",
    "version": 3
   },
   "file_extension": ".py",
   "mimetype": "text/x-python",
   "name": "python",
   "nbconvert_exporter": "python",
   "pygments_lexer": "ipython3",
   "version": "3.10.11"
  }
 },
 "nbformat": 4,
 "nbformat_minor": 2
}
